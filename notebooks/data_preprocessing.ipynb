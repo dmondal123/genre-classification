{
 "cells": [
  {
   "cell_type": "markdown",
   "id": "a882a4f6-d25a-4748-8dfc-77e492025042",
   "metadata": {},
   "source": [
    "## Importing the dependencies"
   ]
  },
  {
   "cell_type": "code",
   "execution_count": 1,
   "id": "e76cba9b-56d0-4b70-9882-b2f4be37f220",
   "metadata": {},
   "outputs": [],
   "source": [
    "import numpy as np\n",
    "import distance\n",
    "\n",
    "import os\n",
    "import datetime\n",
    "import sys \n",
    "\n",
    "import pandas as pd\n",
    "from gensim.models import KeyedVectors\n",
    "import matplotlib.pyplot as plt\n",
    "from collections import Counter\n",
    "\n",
    "sys.path.append('../src')\n",
    "from utilities.utils1 import OneHotEncoder, clean_and_filter\n",
    "from data.data_cleaner import merge_near_string"
   ]
  },
  {
   "cell_type": "markdown",
   "id": "e67d5468-e514-49e3-808f-198b84e446dd",
   "metadata": {},
   "source": [
    "## Loading the interi dataset"
   ]
  },
  {
   "cell_type": "code",
   "execution_count": 2,
   "id": "727c3eab-8903-4c13-bffa-ae5a4b92e95c",
   "metadata": {},
   "outputs": [
    {
     "data": {
      "text/html": [
       "<div>\n",
       "<style scoped>\n",
       "    .dataframe tbody tr th:only-of-type {\n",
       "        vertical-align: middle;\n",
       "    }\n",
       "\n",
       "    .dataframe tbody tr th {\n",
       "        vertical-align: top;\n",
       "    }\n",
       "\n",
       "    .dataframe thead th {\n",
       "        text-align: right;\n",
       "    }\n",
       "</style>\n",
       "<table border=\"1\" class=\"dataframe\">\n",
       "  <thead>\n",
       "    <tr style=\"text-align: right;\">\n",
       "      <th></th>\n",
       "      <th>id</th>\n",
       "      <th>song_name</th>\n",
       "      <th>album_name</th>\n",
       "      <th>artist_name</th>\n",
       "      <th>artist_mb</th>\n",
       "      <th>tag_echo</th>\n",
       "      <th>tag_mbz</th>\n",
       "      <th>year</th>\n",
       "    </tr>\n",
       "  </thead>\n",
       "  <tbody>\n",
       "    <tr>\n",
       "      <th>0</th>\n",
       "      <td>TRRRUFD12903CD7092</td>\n",
       "      <td>Wastelands</td>\n",
       "      <td>Alien 4</td>\n",
       "      <td>Hawkwind</td>\n",
       "      <td>5a28f8c2-31fb-4047-ae57-c5c326989262</td>\n",
       "      <td>space rock</td>\n",
       "      <td>british</td>\n",
       "      <td>1994</td>\n",
       "    </tr>\n",
       "    <tr>\n",
       "      <th>1</th>\n",
       "      <td>TRRRUTV12903CEA11B</td>\n",
       "      <td>Runaway</td>\n",
       "      <td>Songs of Del Shannon</td>\n",
       "      <td>Del Shannon</td>\n",
       "      <td>2e885bfb-1f59-49cf-8d51-e743445e1b48</td>\n",
       "      <td>ballad</td>\n",
       "      <td>classic pop and rock</td>\n",
       "      <td>1961</td>\n",
       "    </tr>\n",
       "    <tr>\n",
       "      <th>2</th>\n",
       "      <td>TRRRUJO128E07813E7</td>\n",
       "      <td>Have You Met Miss Jones? (Swing When Version)</td>\n",
       "      <td>Swing When You're Winning</td>\n",
       "      <td>Robbie Williams</td>\n",
       "      <td>db4624cf-0e44-481e-a9dc-2142b833ec2f</td>\n",
       "      <td>british pop</td>\n",
       "      <td>pop</td>\n",
       "      <td>2001</td>\n",
       "    </tr>\n",
       "    <tr>\n",
       "      <th>3</th>\n",
       "      <td>TRRRIYO128F428CF6F</td>\n",
       "      <td>Goodbye</td>\n",
       "      <td>Bittersweet</td>\n",
       "      <td>Volebeats</td>\n",
       "      <td>eb567c55-368d-4b85-b969-ca9e3252f9cb</td>\n",
       "      <td>alternative country</td>\n",
       "      <td>?</td>\n",
       "      <td>0</td>\n",
       "    </tr>\n",
       "    <tr>\n",
       "      <th>4</th>\n",
       "      <td>TRRRILO128F422FFED</td>\n",
       "      <td>La Colegiala</td>\n",
       "      <td>Musica Tropical De Colombia 5</td>\n",
       "      <td>Rodolfo Y Su Tipica Ra7</td>\n",
       "      <td>ead8d6d9-e58b-4dd8-916f-cf7f359db38e</td>\n",
       "      <td>cumbia</td>\n",
       "      <td>?</td>\n",
       "      <td>1997</td>\n",
       "    </tr>\n",
       "    <tr>\n",
       "      <th>...</th>\n",
       "      <td>...</td>\n",
       "      <td>...</td>\n",
       "      <td>...</td>\n",
       "      <td>...</td>\n",
       "      <td>...</td>\n",
       "      <td>...</td>\n",
       "      <td>...</td>\n",
       "      <td>...</td>\n",
       "    </tr>\n",
       "    <tr>\n",
       "      <th>31029</th>\n",
       "      <td>TRWWYHD12903CC42B1</td>\n",
       "      <td>Gethsemane (I Only Want to Say) (Live-LP Version)</td>\n",
       "      <td>In Concert</td>\n",
       "      <td>Michael Crawford</td>\n",
       "      <td>2c654643-cdbd-4634-be26-c4d1a90cfabd</td>\n",
       "      <td>opera</td>\n",
       "      <td>?</td>\n",
       "      <td>0</td>\n",
       "    </tr>\n",
       "    <tr>\n",
       "      <th>31030</th>\n",
       "      <td>TRWWYNJ128F426541F</td>\n",
       "      <td>Cold Feelings</td>\n",
       "      <td>Somewhere Between Heaven And Hell</td>\n",
       "      <td>Social Distortion</td>\n",
       "      <td>e1e05cce-3922-44e1-8f20-015abe5e309d</td>\n",
       "      <td>hard rock</td>\n",
       "      <td>punk</td>\n",
       "      <td>1992</td>\n",
       "    </tr>\n",
       "    <tr>\n",
       "      <th>31031</th>\n",
       "      <td>TRWWPSV128F4244C71</td>\n",
       "      <td>Ases Death</td>\n",
       "      <td>Dragonchaser</td>\n",
       "      <td>At Vance</td>\n",
       "      <td>17828264-0f4a-40b3-bfc5-8544f30debed</td>\n",
       "      <td>power metal</td>\n",
       "      <td>?</td>\n",
       "      <td>2001</td>\n",
       "    </tr>\n",
       "    <tr>\n",
       "      <th>31032</th>\n",
       "      <td>TRWWPBK128F42911E9</td>\n",
       "      <td>Drowned Maid</td>\n",
       "      <td>Chapters</td>\n",
       "      <td>Amorphis</td>\n",
       "      <td>efaefde1-e09b-4d49-9d8e-b1304d2ece8d</td>\n",
       "      <td>progressive metal</td>\n",
       "      <td>finnish</td>\n",
       "      <td>1993</td>\n",
       "    </tr>\n",
       "    <tr>\n",
       "      <th>31033</th>\n",
       "      <td>TRWWWUT128F9364D1A</td>\n",
       "      <td>Ting-A-Ling</td>\n",
       "      <td>Superman Can't Move His Legs</td>\n",
       "      <td>A Balladeer</td>\n",
       "      <td>8cb0ebc9-db95-4748-81df-8e1e24e70541</td>\n",
       "      <td>pop rock</td>\n",
       "      <td>?</td>\n",
       "      <td>0</td>\n",
       "    </tr>\n",
       "  </tbody>\n",
       "</table>\n",
       "<p>31034 rows × 8 columns</p>\n",
       "</div>"
      ],
      "text/plain": [
       "                       id                                          song_name  \\\n",
       "0      TRRRUFD12903CD7092                                         Wastelands   \n",
       "1      TRRRUTV12903CEA11B                                            Runaway   \n",
       "2      TRRRUJO128E07813E7      Have You Met Miss Jones? (Swing When Version)   \n",
       "3      TRRRIYO128F428CF6F                                            Goodbye   \n",
       "4      TRRRILO128F422FFED                                       La Colegiala   \n",
       "...                   ...                                                ...   \n",
       "31029  TRWWYHD12903CC42B1  Gethsemane (I Only Want to Say) (Live-LP Version)   \n",
       "31030  TRWWYNJ128F426541F                                      Cold Feelings   \n",
       "31031  TRWWPSV128F4244C71                                         Ases Death   \n",
       "31032  TRWWPBK128F42911E9                                       Drowned Maid   \n",
       "31033  TRWWWUT128F9364D1A                                        Ting-A-Ling   \n",
       "\n",
       "                              album_name              artist_name  \\\n",
       "0                                Alien 4                 Hawkwind   \n",
       "1                   Songs of Del Shannon              Del Shannon   \n",
       "2              Swing When You're Winning          Robbie Williams   \n",
       "3                            Bittersweet                Volebeats   \n",
       "4          Musica Tropical De Colombia 5  Rodolfo Y Su Tipica Ra7   \n",
       "...                                  ...                      ...   \n",
       "31029                         In Concert         Michael Crawford   \n",
       "31030  Somewhere Between Heaven And Hell        Social Distortion   \n",
       "31031                       Dragonchaser                 At Vance   \n",
       "31032                           Chapters                 Amorphis   \n",
       "31033       Superman Can't Move His Legs              A Balladeer   \n",
       "\n",
       "                                  artist_mb             tag_echo  \\\n",
       "0      5a28f8c2-31fb-4047-ae57-c5c326989262           space rock   \n",
       "1      2e885bfb-1f59-49cf-8d51-e743445e1b48               ballad   \n",
       "2      db4624cf-0e44-481e-a9dc-2142b833ec2f          british pop   \n",
       "3      eb567c55-368d-4b85-b969-ca9e3252f9cb  alternative country   \n",
       "4      ead8d6d9-e58b-4dd8-916f-cf7f359db38e               cumbia   \n",
       "...                                     ...                  ...   \n",
       "31029  2c654643-cdbd-4634-be26-c4d1a90cfabd                opera   \n",
       "31030  e1e05cce-3922-44e1-8f20-015abe5e309d            hard rock   \n",
       "31031  17828264-0f4a-40b3-bfc5-8544f30debed          power metal   \n",
       "31032  efaefde1-e09b-4d49-9d8e-b1304d2ece8d    progressive metal   \n",
       "31033  8cb0ebc9-db95-4748-81df-8e1e24e70541             pop rock   \n",
       "\n",
       "                    tag_mbz  year  \n",
       "0                   british  1994  \n",
       "1      classic pop and rock  1961  \n",
       "2                       pop  2001  \n",
       "3                         ?     0  \n",
       "4                         ?  1997  \n",
       "...                     ...   ...  \n",
       "31029                     ?     0  \n",
       "31030                  punk  1992  \n",
       "31031                     ?  2001  \n",
       "31032               finnish  1993  \n",
       "31033                     ?     0  \n",
       "\n",
       "[31034 rows x 8 columns]"
      ]
     },
     "execution_count": 2,
     "metadata": {},
     "output_type": "execute_result"
    }
   ],
   "source": [
    "df = pd.read_csv('../data/interim/lakh/lakh.csv', usecols=['id','song_name','album_name','artist_name','artist_mb','tag_echo','tag_mbz','year'])\n",
    "df =  df.fillna('?')\n",
    "df"
   ]
  },
  {
   "cell_type": "markdown",
   "id": "7f27576e-43bc-40f1-93e2-57555416eb6c",
   "metadata": {},
   "source": [
    "## What are the number of unique genres in the dataset?"
   ]
  },
  {
   "cell_type": "code",
   "execution_count": 3,
   "id": "f6c392b3-c07d-486f-b9c5-d8ed1fcc2b8f",
   "metadata": {},
   "outputs": [
    {
     "data": {
      "text/plain": [
       "485"
      ]
     },
     "execution_count": 3,
     "metadata": {},
     "output_type": "execute_result"
    }
   ],
   "source": [
    "df['tag_mbz'].nunique()"
   ]
  },
  {
   "cell_type": "code",
   "execution_count": 4,
   "id": "ed0fbfb7-0e50-46c4-a484-b874f2263f86",
   "metadata": {},
   "outputs": [
    {
     "data": {
      "text/plain": [
       "{'funk rock': 'punk rock',\n",
       " 'electronica': 'electronic',\n",
       " 'italia': 'italian',\n",
       " 'hip hop': 'hip-hop',\n",
       " 'hiphop': 'hip-hop',\n",
       " 'australian': 'australia',\n",
       " 'australie': 'australia',\n",
       " 'france': 'trance',\n",
       " 'synth-pop': 'synthpop',\n",
       " 'orchestral': 'orchestra',\n",
       " 'popera': 'opera',\n",
       " 'austria': 'austrian',\n",
       " 'dark wave': 'darkwave',\n",
       " 'post rock': 'post-rock',\n",
       " 'argentine': 'argentina',\n",
       " 'post-hardcore': 'post hardcore',\n",
       " 'electropop': 'electro pop'}"
      ]
     },
     "execution_count": 4,
     "metadata": {},
     "output_type": "execute_result"
    }
   ],
   "source": [
    "#merge those genres which are similar\n",
    "merge_near_string('tag_mbz', df)"
   ]
  },
  {
   "cell_type": "code",
   "execution_count": 5,
   "id": "3d49b678-e467-4254-85cd-d550a5add86c",
   "metadata": {},
   "outputs": [],
   "source": [
    "#load the embeddings\n",
    "emb = KeyedVectors.load_word2vec_format('../data/interim/lmd.bin', binary=False)"
   ]
  },
  {
   "cell_type": "code",
   "execution_count": 6,
   "id": "063fe369-7b9f-492c-a737-ae13197c8656",
   "metadata": {},
   "outputs": [
    {
     "data": {
      "text/plain": [
       "array([[-0.17479022,  0.07378042,  0.49907172, ...,  0.31828856,\n",
       "         0.5608369 ,  0.12442618],\n",
       "       [-0.33292776,  0.02196981,  0.68885314, ..., -0.17462437,\n",
       "         0.20948799,  0.12133545],\n",
       "       [ 0.11866359, -0.3533733 ,  0.40039137, ..., -0.15811822,\n",
       "        -0.12684418,  0.21303603],\n",
       "       ...,\n",
       "       [-0.07274715, -0.10548753,  0.2216787 , ..., -0.47450665,\n",
       "         0.75326884,  0.48820785],\n",
       "       [ 0.4209376 ,  0.41637152,  0.71112645, ...,  0.03877402,\n",
       "         0.19865389, -0.05724512],\n",
       "       [-0.09821663, -0.52757484,  0.2697266 , ...,  0.76983595,\n",
       "         0.4365861 ,  0.08382966]], dtype=float32)"
      ]
     },
     "execution_count": 6,
     "metadata": {},
     "output_type": "execute_result"
    }
   ],
   "source": [
    "'''extracts embedding vectors from the emb dictionary based on the 'id' values\n",
    " present in the DataFrame df, and stores them in a numpy array called data'''\n",
    "ids = [i for i in df.id.tolist() if i in emb]\n",
    "data = np.array([emb[i] for i in ids])\n",
    "data"
   ]
  },
  {
   "cell_type": "code",
   "execution_count": 7,
   "id": "72d1830c-7893-4a14-99f5-35a253bd1c68",
   "metadata": {},
   "outputs": [
    {
     "data": {
      "text/plain": [
       "59"
      ]
     },
     "execution_count": 7,
     "metadata": {},
     "output_type": "execute_result"
    }
   ],
   "source": [
    "'''difference between the total number of 'id' values in df and \n",
    "the number of embedding vectors collected into the data array'''\n",
    "len(df.id.tolist()) - len(data)"
   ]
  },
  {
   "cell_type": "code",
   "execution_count": 9,
   "id": "81df7d45-ec09-466c-a3eb-8504bc021530",
   "metadata": {},
   "outputs": [
    {
     "data": {
      "text/plain": [
       "(30975, 8)"
      ]
     },
     "execution_count": 9,
     "metadata": {},
     "output_type": "execute_result"
    }
   ],
   "source": [
    "df = df[df.id.isin(ids)]\n",
    "df.shape"
   ]
  },
  {
   "cell_type": "code",
   "execution_count": 10,
   "id": "365ed3f6-71b3-4ca1-b864-8d721d9f9705",
   "metadata": {},
   "outputs": [
    {
     "name": "stdout",
     "output_type": "stream",
     "text": [
      "DataFrame saved to: data/processed/processed.csv\n"
     ]
    }
   ],
   "source": [
    "data_dir = 'data'\n",
    "processed_dir = os.path.join(data_dir, 'processed')\n",
    "os.makedirs(processed_dir, exist_ok=True)\n",
    "csv_file_path = os.path.join(processed_dir, 'processed.csv')\n",
    "df.to_csv(csv_file_path, index=False)\n",
    "print(f\"DataFrame saved to: {csv_file_path}\")"
   ]
  },
  {
   "cell_type": "code",
   "execution_count": null,
   "id": "65488ab8-ea3f-47ed-877e-648e213143cf",
   "metadata": {},
   "outputs": [],
   "source": []
  }
 ],
 "metadata": {
  "kernelspec": {
   "display_name": "Python 3 (ipykernel)",
   "language": "python",
   "name": "python3"
  },
  "language_info": {
   "codemirror_mode": {
    "name": "ipython",
    "version": 3
   },
   "file_extension": ".py",
   "mimetype": "text/x-python",
   "name": "python",
   "nbconvert_exporter": "python",
   "pygments_lexer": "ipython3",
   "version": "3.12.1"
  }
 },
 "nbformat": 4,
 "nbformat_minor": 5
}
